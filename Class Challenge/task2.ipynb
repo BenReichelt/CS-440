{
 "cells": [
  {
   "cell_type": "markdown",
   "metadata": {
    "nbpresent": {
     "id": "1d234e3f-af8b-4757-83f3-241b04b7a511"
    }
   },
   "source": [
    "# Class Challenge: Image Classification of COVID-19 X-rays\n",
    "# Task 2 [Total points: 30]"
   ]
  },
  {
   "cell_type": "markdown",
   "metadata": {
    "nbpresent": {
     "id": "b07b9992-b592-4871-9f9a-3b0ae5fa8b5f"
    }
   },
   "source": [
    "## Setup\n",
    "\n",
    "* This assignment involves the following packages: 'matplotlib', 'numpy', and 'sklearn'. \n",
    "\n",
    "* If you are using conda, use the following commands to install the above packages:<br>\n",
    "```shell\n",
    "conda install matplotlib\n",
    "conda install numpy\n",
    "conda install -c anaconda scikit-learn\n",
    "```\n",
    "\n",
    "* If you are using pip, use use the following commands to install the above packages: <br> \n",
    "```shell\n",
    "pip install matplotlib\n",
    "pip install numpy\n",
    "pip install sklearn\n",
    "```"
   ]
  },
  {
   "cell_type": "markdown",
   "metadata": {
    "nbpresent": {
     "id": "5516f610-f00c-43c3-bf19-4cf7ab9c089f"
    }
   },
   "source": [
    "## Data\n",
    "\n",
    "Please download the data using the following link: [COVID-19](https://drive.google.com/file/d/1Y88tgqpQ1Pjko_7rntcPowOJs_QNOrJ-/view). \n",
    "\n",
    "* After downloading 'Covid_Data_GradientCrescent.zip', unzip the file and you should see the following data structure:\n",
    "\n",
    "\n",
    "|--all<br>\n",
    "|--------train<br>\n",
    "|--------test<br>\n",
    "|--two<br>\n",
    "|--------train<br>\n",
    "|--------test<br>\n",
    "\n",
    "\n",
    "* Put the 'all' folder, the 'two' folder and this python notebook in the **same directory** so that the following code can correctly locate the data.  \n",
    "\n"
   ]
  },
  {
   "cell_type": "markdown",
   "metadata": {
    "nbpresent": {
     "id": "66140980-2aa4-457f-b1df-74c10c234cc2"
    }
   },
   "source": [
    "## [20 points] Multi-class Classification"
   ]
  },
  {
   "cell_type": "code",
   "execution_count": 1,
   "metadata": {
    "nbpresent": {
     "id": "5e05f980-3d14-4367-b3d1-664249145b13"
    },
    "scrolled": true
   },
   "outputs": [
    {
     "data": {
      "text/plain": [
       "'2.3.1'"
      ]
     },
     "execution_count": 1,
     "metadata": {},
     "output_type": "execute_result"
    }
   ],
   "source": [
    "import os\n",
    "\n",
    "import tensorflow as tf\n",
    "import numpy as np\n",
    "import matplotlib.pyplot as plt\n",
    "from tensorflow.keras.preprocessing.image import ImageDataGenerator\n",
    "\n",
    "os.environ['OMP_NUM_THREADS'] = '1'\n",
    "os.environ['CUDA_VISIBLE_DEVICES'] = '-1'\n",
    "tf.__version__"
   ]
  },
  {
   "cell_type": "markdown",
   "metadata": {
    "nbpresent": {
     "id": "66140980-2aa4-457f-b1df-74c10c234cc2"
    }
   },
   "source": [
    "#### Load Image Data"
   ]
  },
  {
   "cell_type": "code",
   "execution_count": 2,
   "metadata": {
    "nbpresent": {
     "id": "58317664-8da3-4283-b3e5-35721687e7ab"
    }
   },
   "outputs": [],
   "source": [
    "DATA_LIST = os.listdir('all/train')\n",
    "DATASET_PATH  = 'all/train'\n",
    "TEST_DIR =  'all/test'\n",
    "IMAGE_SIZE    = (224, 224)\n",
    "NUM_CLASSES   = len(DATA_LIST)\n",
    "BATCH_SIZE    = 10  # try reducing batch size or freeze more layers if your GPU runs out of memory\n",
    "NUM_EPOCHS    = 100\n",
    "LEARNING_RATE = 0.0001 # start off with high rate first 0.001 and experiment with reducing it gradually "
   ]
  },
  {
   "cell_type": "markdown",
   "metadata": {
    "nbpresent": {
     "id": "66140980-2aa4-457f-b1df-74c10c234cc2"
    }
   },
   "source": [
    "#### Generate Training and Validation Batches"
   ]
  },
  {
   "cell_type": "code",
   "execution_count": 3,
   "metadata": {
    "nbpresent": {
     "id": "71760e29-2b08-4259-93f1-ebe68cd74a6d"
    }
   },
   "outputs": [
    {
     "name": "stderr",
     "output_type": "stream",
     "text": [
      "/Users/benreichelt/anaconda3/envs/tf2/lib/python3.7/site-packages/keras_preprocessing/image/image_data_generator.py:342: UserWarning: This ImageDataGenerator specifies `zca_whitening` which overrides setting of`featurewise_std_normalization`.\n",
      "  warnings.warn('This ImageDataGenerator specifies '\n"
     ]
    },
    {
     "name": "stdout",
     "output_type": "stream",
     "text": [
      "Found 216 images belonging to 4 classes.\n",
      "Found 54 images belonging to 4 classes.\n"
     ]
    }
   ],
   "source": [
    "train_datagen = ImageDataGenerator(rescale=1./255,rotation_range=50,featurewise_center = True,\n",
    "                                   featurewise_std_normalization = True,width_shift_range=0.2,\n",
    "                                   height_shift_range=0.2,shear_range=0.25,zoom_range=0.1,\n",
    "                                   zca_whitening = True,channel_shift_range = 20,\n",
    "                                   horizontal_flip = True,vertical_flip = True,\n",
    "                                   validation_split = 0.2,fill_mode='constant')\n",
    "\n",
    "\n",
    "train_batches = train_datagen.flow_from_directory(DATASET_PATH,target_size=IMAGE_SIZE,\n",
    "                                                  shuffle=True,batch_size=BATCH_SIZE,\n",
    "                                                  subset = \"training\",seed=42,\n",
    "                                                  class_mode=\"categorical\")\n",
    "\n",
    "valid_batches = train_datagen.flow_from_directory(DATASET_PATH,target_size=IMAGE_SIZE,\n",
    "                                                  shuffle=True,batch_size=BATCH_SIZE,\n",
    "                                                  subset = \"validation\",\n",
    "                                                  seed=42,class_mode=\"categorical\")"
   ]
  },
  {
   "cell_type": "markdown",
   "metadata": {
    "nbpresent": {
     "id": "66140980-2aa4-457f-b1df-74c10c234cc2"
    }
   },
   "source": [
    "#### [10 points] Build Model\n",
    "Hint: Starting from a pre-trained model typically helps performance on a new task, e.g. starting with weights obtained by training on ImageNet. "
   ]
  },
  {
   "cell_type": "code",
   "execution_count": 4,
   "metadata": {
    "nbpresent": {
     "id": "5c52eeb2-1092-4d45-9e16-02219c82cb5e"
    }
   },
   "outputs": [
    {
     "name": "stdout",
     "output_type": "stream",
     "text": [
      "Model: \"sequential\"\n",
      "_________________________________________________________________\n",
      "Layer (type)                 Output Shape              Param #   \n",
      "=================================================================\n",
      "vgg16 (Functional)           (None, 7, 7, 512)         14714688  \n",
      "_________________________________________________________________\n",
      "flatten (Flatten)            (None, 25088)             0         \n",
      "_________________________________________________________________\n",
      "dense_feature (Dense)        (None, 256)               6422784   \n",
      "_________________________________________________________________\n",
      "dropout (Dropout)            (None, 256)               0         \n",
      "_________________________________________________________________\n",
      "dense (Dense)                (None, 4)                 1028      \n",
      "=================================================================\n",
      "Total params: 21,138,500\n",
      "Trainable params: 21,138,500\n",
      "Non-trainable params: 0\n",
      "_________________________________________________________________\n"
     ]
    }
   ],
   "source": [
    "vgg16 = tf.keras.applications.VGG16(weights=\"imagenet\", include_top=False, input_shape=(224, 224, 3))\n",
    "\n",
    "model = tf.keras.models.Sequential([\n",
    "  vgg16,\n",
    "  tf.keras.layers.Flatten(),\n",
    "  tf.keras.layers.Dense(256, activation='relu', name = 'dense_feature'),\n",
    "  tf.keras.layers.Dropout(0.3),\n",
    "  tf.keras.layers.Dense(4, activation='softmax')\n",
    "])\n",
    "\n",
    "model.summary()"
   ]
  },
  {
   "cell_type": "markdown",
   "metadata": {
    "nbpresent": {
     "id": "66140980-2aa4-457f-b1df-74c10c234cc2"
    }
   },
   "source": [
    "#### [5 points] Train Model"
   ]
  },
  {
   "cell_type": "code",
   "execution_count": 5,
   "metadata": {
    "nbpresent": {
     "id": "cdb90d24-6a23-4969-8138-f37e7050062d"
    },
    "scrolled": true
   },
   "outputs": [
    {
     "name": "stdout",
     "output_type": "stream",
     "text": [
      "22\n",
      "6\n"
     ]
    },
    {
     "name": "stderr",
     "output_type": "stream",
     "text": [
      "/Users/benreichelt/anaconda3/envs/tf2/lib/python3.7/site-packages/keras_preprocessing/image/image_data_generator.py:720: UserWarning: This ImageDataGenerator specifies `featurewise_center`, but it hasn't been fit on any training data. Fit it first by calling `.fit(numpy_data)`.\n",
      "  warnings.warn('This ImageDataGenerator specifies '\n",
      "/Users/benreichelt/anaconda3/envs/tf2/lib/python3.7/site-packages/keras_preprocessing/image/image_data_generator.py:739: UserWarning: This ImageDataGenerator specifies `zca_whitening`, but it hasn't been fit on any training data. Fit it first by calling `.fit(numpy_data)`.\n",
      "  warnings.warn('This ImageDataGenerator specifies '\n"
     ]
    },
    {
     "name": "stdout",
     "output_type": "stream",
     "text": [
      "Epoch 1/100\n",
      "21/21 [==============================] - 70s 3s/step - loss: 1.5843 - accuracy: 0.2039 - val_loss: 1.3858 - val_accuracy: 0.3200\n",
      "Epoch 2/100\n",
      "21/21 [==============================] - 79s 4s/step - loss: 1.4542 - accuracy: 0.2961 - val_loss: 1.3780 - val_accuracy: 0.3200\n",
      "Epoch 3/100\n",
      "21/21 [==============================] - 73s 3s/step - loss: 1.4205 - accuracy: 0.3010 - val_loss: 1.3735 - val_accuracy: 0.3000\n",
      "Epoch 4/100\n",
      "21/21 [==============================] - 74s 4s/step - loss: 1.4723 - accuracy: 0.3058 - val_loss: 1.3648 - val_accuracy: 0.2200\n",
      "Epoch 5/100\n",
      "21/21 [==============================] - 74s 4s/step - loss: 1.4189 - accuracy: 0.2621 - val_loss: 1.3308 - val_accuracy: 0.4800\n",
      "Epoch 6/100\n",
      "21/21 [==============================] - 72s 3s/step - loss: 1.3896 - accuracy: 0.2961 - val_loss: 1.3303 - val_accuracy: 0.3200\n",
      "Epoch 7/100\n",
      "21/21 [==============================] - 71s 3s/step - loss: 1.3759 - accuracy: 0.3689 - val_loss: 1.3468 - val_accuracy: 0.4000\n",
      "Epoch 8/100\n",
      "21/21 [==============================] - 71s 3s/step - loss: 1.3832 - accuracy: 0.3155 - val_loss: 1.3177 - val_accuracy: 0.3600\n",
      "Epoch 9/100\n",
      "21/21 [==============================] - 71s 3s/step - loss: 1.3102 - accuracy: 0.4078 - val_loss: 1.3063 - val_accuracy: 0.3400\n",
      "Epoch 10/100\n",
      "21/21 [==============================] - 70s 3s/step - loss: 1.3246 - accuracy: 0.3786 - val_loss: 1.2503 - val_accuracy: 0.4800\n",
      "Epoch 11/100\n",
      "21/21 [==============================] - 71s 3s/step - loss: 1.3184 - accuracy: 0.3932 - val_loss: 1.2619 - val_accuracy: 0.3600\n",
      "Epoch 12/100\n",
      "21/21 [==============================] - 70s 3s/step - loss: 1.2696 - accuracy: 0.4320 - val_loss: 1.2373 - val_accuracy: 0.4000\n",
      "Epoch 13/100\n",
      "21/21 [==============================] - 70s 3s/step - loss: 1.2465 - accuracy: 0.4175 - val_loss: 1.2588 - val_accuracy: 0.3800\n",
      "Epoch 14/100\n",
      "21/21 [==============================] - 71s 3s/step - loss: 1.2464 - accuracy: 0.4466 - val_loss: 1.1567 - val_accuracy: 0.5800\n",
      "Epoch 15/100\n",
      "21/21 [==============================] - 70s 3s/step - loss: 1.2545 - accuracy: 0.4126 - val_loss: 1.1790 - val_accuracy: 0.5000\n",
      "Epoch 16/100\n",
      "21/21 [==============================] - 70s 3s/step - loss: 1.2141 - accuracy: 0.4272 - val_loss: 1.1313 - val_accuracy: 0.4000\n",
      "Epoch 17/100\n",
      "21/21 [==============================] - 70s 3s/step - loss: 1.1959 - accuracy: 0.4612 - val_loss: 1.0900 - val_accuracy: 0.5800\n",
      "Epoch 18/100\n",
      "21/21 [==============================] - 70s 3s/step - loss: 1.1882 - accuracy: 0.4612 - val_loss: 1.1424 - val_accuracy: 0.5000\n",
      "Epoch 19/100\n",
      "21/21 [==============================] - 70s 3s/step - loss: 1.1972 - accuracy: 0.4272 - val_loss: 1.0727 - val_accuracy: 0.4800\n",
      "Epoch 20/100\n",
      "21/21 [==============================] - 70s 3s/step - loss: 1.1594 - accuracy: 0.5000 - val_loss: 1.1504 - val_accuracy: 0.4600\n",
      "Epoch 21/100\n",
      "21/21 [==============================] - 70s 3s/step - loss: 1.1646 - accuracy: 0.4417 - val_loss: 1.0198 - val_accuracy: 0.4800\n",
      "Epoch 22/100\n",
      "21/21 [==============================] - 71s 3s/step - loss: 1.1595 - accuracy: 0.4563 - val_loss: 1.0715 - val_accuracy: 0.5600\n",
      "Epoch 23/100\n",
      "21/21 [==============================] - 85s 4s/step - loss: 1.0783 - accuracy: 0.5146 - val_loss: 1.0301 - val_accuracy: 0.5200\n",
      "Epoch 24/100\n",
      "21/21 [==============================] - 70s 3s/step - loss: 1.0596 - accuracy: 0.5291 - val_loss: 1.0478 - val_accuracy: 0.5600\n",
      "Epoch 25/100\n",
      "21/21 [==============================] - 72s 3s/step - loss: 1.0532 - accuracy: 0.5048 - val_loss: 0.9626 - val_accuracy: 0.4800\n",
      "Epoch 26/100\n",
      "21/21 [==============================] - 71s 3s/step - loss: 1.0753 - accuracy: 0.5194 - val_loss: 0.9132 - val_accuracy: 0.6200\n",
      "Epoch 27/100\n",
      "21/21 [==============================] - 70s 3s/step - loss: 1.0544 - accuracy: 0.5340 - val_loss: 0.9824 - val_accuracy: 0.5400\n",
      "Epoch 28/100\n",
      "21/21 [==============================] - 71s 3s/step - loss: 1.0605 - accuracy: 0.5340 - val_loss: 0.9590 - val_accuracy: 0.5200\n",
      "Epoch 29/100\n",
      "21/21 [==============================] - 70s 3s/step - loss: 1.0423 - accuracy: 0.5291 - val_loss: 0.9719 - val_accuracy: 0.5800\n",
      "Epoch 30/100\n",
      "21/21 [==============================] - 70s 3s/step - loss: 1.0108 - accuracy: 0.5825 - val_loss: 0.9476 - val_accuracy: 0.5600\n",
      "Epoch 31/100\n",
      "21/21 [==============================] - 71s 3s/step - loss: 1.0282 - accuracy: 0.5762 - val_loss: 0.9218 - val_accuracy: 0.5800\n",
      "Epoch 32/100\n",
      "21/21 [==============================] - 70s 3s/step - loss: 1.0351 - accuracy: 0.5097 - val_loss: 0.9387 - val_accuracy: 0.5600\n",
      "Epoch 33/100\n",
      "21/21 [==============================] - 76s 4s/step - loss: 0.9644 - accuracy: 0.6165 - val_loss: 0.9321 - val_accuracy: 0.6400\n",
      "Epoch 34/100\n",
      "21/21 [==============================] - 81s 4s/step - loss: 0.9920 - accuracy: 0.5388 - val_loss: 0.8970 - val_accuracy: 0.5800\n",
      "Epoch 35/100\n",
      "21/21 [==============================] - 72s 3s/step - loss: 0.9950 - accuracy: 0.5388 - val_loss: 0.8761 - val_accuracy: 0.5400\n",
      "Epoch 36/100\n",
      "21/21 [==============================] - 70s 3s/step - loss: 0.9782 - accuracy: 0.5583 - val_loss: 0.9011 - val_accuracy: 0.5400\n",
      "Epoch 37/100\n",
      "21/21 [==============================] - 70s 3s/step - loss: 0.9407 - accuracy: 0.5680 - val_loss: 0.8992 - val_accuracy: 0.5400\n",
      "Epoch 38/100\n",
      "21/21 [==============================] - 70s 3s/step - loss: 0.9641 - accuracy: 0.5437 - val_loss: 0.8883 - val_accuracy: 0.5600\n",
      "Epoch 39/100\n",
      "21/21 [==============================] - 70s 3s/step - loss: 0.9520 - accuracy: 0.6117 - val_loss: 0.8485 - val_accuracy: 0.5600\n",
      "Epoch 40/100\n",
      "21/21 [==============================] - 70s 3s/step - loss: 0.9061 - accuracy: 0.6262 - val_loss: 0.8440 - val_accuracy: 0.6600\n",
      "Epoch 41/100\n",
      "21/21 [==============================] - 70s 3s/step - loss: 0.9029 - accuracy: 0.6068 - val_loss: 0.9396 - val_accuracy: 0.5400\n",
      "Epoch 42/100\n",
      "21/21 [==============================] - 70s 3s/step - loss: 0.9049 - accuracy: 0.6214 - val_loss: 0.8223 - val_accuracy: 0.6600\n",
      "Epoch 43/100\n",
      "21/21 [==============================] - 70s 3s/step - loss: 0.9440 - accuracy: 0.5680 - val_loss: 0.8762 - val_accuracy: 0.5800\n",
      "Epoch 44/100\n",
      "21/21 [==============================] - 70s 3s/step - loss: 0.8932 - accuracy: 0.6019 - val_loss: 0.8354 - val_accuracy: 0.6400\n",
      "Epoch 45/100\n",
      "21/21 [==============================] - 72s 3s/step - loss: 0.8784 - accuracy: 0.6311 - val_loss: 0.9027 - val_accuracy: 0.5400\n",
      "Epoch 46/100\n",
      "21/21 [==============================] - 70s 3s/step - loss: 0.8696 - accuracy: 0.5583 - val_loss: 0.8261 - val_accuracy: 0.5600\n",
      "Epoch 47/100\n",
      "21/21 [==============================] - 70s 3s/step - loss: 0.8773 - accuracy: 0.6019 - val_loss: 0.8130 - val_accuracy: 0.5600\n",
      "Epoch 48/100\n",
      "21/21 [==============================] - 72s 3s/step - loss: 0.8950 - accuracy: 0.6262 - val_loss: 0.9635 - val_accuracy: 0.5600\n",
      "Epoch 49/100\n",
      "21/21 [==============================] - 73s 3s/step - loss: 0.8352 - accuracy: 0.6262 - val_loss: 0.7738 - val_accuracy: 0.6400\n",
      "Epoch 50/100\n",
      "21/21 [==============================] - 70s 3s/step - loss: 0.8920 - accuracy: 0.6262 - val_loss: 0.8752 - val_accuracy: 0.5400\n",
      "Epoch 51/100\n",
      "21/21 [==============================] - 71s 3s/step - loss: 0.8932 - accuracy: 0.5905 - val_loss: 0.8626 - val_accuracy: 0.5800\n",
      "Epoch 52/100\n",
      "21/21 [==============================] - 70s 3s/step - loss: 0.7782 - accuracy: 0.6602 - val_loss: 0.7880 - val_accuracy: 0.5800\n",
      "Epoch 53/100\n",
      "21/21 [==============================] - 71s 3s/step - loss: 0.8299 - accuracy: 0.6714 - val_loss: 0.8929 - val_accuracy: 0.5800\n",
      "Epoch 54/100\n",
      "21/21 [==============================] - 69s 3s/step - loss: 0.8765 - accuracy: 0.5631 - val_loss: 0.8079 - val_accuracy: 0.6000\n",
      "Epoch 55/100\n",
      "21/21 [==============================] - 69s 3s/step - loss: 0.8725 - accuracy: 0.6214 - val_loss: 0.7694 - val_accuracy: 0.6200\n",
      "Epoch 56/100\n",
      "21/21 [==============================] - 70s 3s/step - loss: 0.8370 - accuracy: 0.6286 - val_loss: 0.6710 - val_accuracy: 0.6800\n",
      "Epoch 57/100\n",
      "21/21 [==============================] - 68s 3s/step - loss: 0.8345 - accuracy: 0.6117 - val_loss: 0.7578 - val_accuracy: 0.6200\n",
      "Epoch 58/100\n",
      "21/21 [==============================] - 70s 3s/step - loss: 0.8118 - accuracy: 0.6165 - val_loss: 0.7787 - val_accuracy: 0.6600\n"
     ]
    },
    {
     "name": "stdout",
     "output_type": "stream",
     "text": [
      "Epoch 59/100\n",
      "21/21 [==============================] - 70s 3s/step - loss: 0.8609 - accuracy: 0.6311 - val_loss: 0.8657 - val_accuracy: 0.6000\n",
      "Epoch 60/100\n",
      "21/21 [==============================] - 71s 3s/step - loss: 0.7792 - accuracy: 0.6748 - val_loss: 0.7734 - val_accuracy: 0.6000\n",
      "Epoch 61/100\n",
      "21/21 [==============================] - 70s 3s/step - loss: 0.8781 - accuracy: 0.6019 - val_loss: 0.7220 - val_accuracy: 0.6600\n",
      "Epoch 62/100\n",
      "21/21 [==============================] - 68s 3s/step - loss: 0.8086 - accuracy: 0.6359 - val_loss: 0.8538 - val_accuracy: 0.5400\n",
      "Epoch 63/100\n",
      "21/21 [==============================] - 69s 3s/step - loss: 0.8211 - accuracy: 0.5874 - val_loss: 0.7102 - val_accuracy: 0.6400\n",
      "Epoch 64/100\n",
      "21/21 [==============================] - 68s 3s/step - loss: 0.8377 - accuracy: 0.6311 - val_loss: 0.7680 - val_accuracy: 0.6000\n",
      "Epoch 65/100\n",
      "21/21 [==============================] - 68s 3s/step - loss: 0.8056 - accuracy: 0.6602 - val_loss: 0.6730 - val_accuracy: 0.7400\n",
      "Epoch 66/100\n",
      "21/21 [==============================] - 68s 3s/step - loss: 0.7715 - accuracy: 0.6893 - val_loss: 0.7282 - val_accuracy: 0.6400\n",
      "Epoch 67/100\n",
      "21/21 [==============================] - 69s 3s/step - loss: 0.7591 - accuracy: 0.6990 - val_loss: 0.8670 - val_accuracy: 0.5400\n",
      "Epoch 68/100\n",
      "21/21 [==============================] - 68s 3s/step - loss: 0.7750 - accuracy: 0.6990 - val_loss: 0.6892 - val_accuracy: 0.6200\n",
      "Epoch 69/100\n",
      "21/21 [==============================] - 68s 3s/step - loss: 0.8339 - accuracy: 0.6165 - val_loss: 0.7790 - val_accuracy: 0.6600\n",
      "Epoch 70/100\n",
      "21/21 [==============================] - 68s 3s/step - loss: 0.7931 - accuracy: 0.6359 - val_loss: 0.7802 - val_accuracy: 0.6600\n",
      "Epoch 71/100\n",
      "21/21 [==============================] - 68s 3s/step - loss: 0.7553 - accuracy: 0.6990 - val_loss: 0.7135 - val_accuracy: 0.6400\n",
      "Epoch 72/100\n",
      "21/21 [==============================] - 68s 3s/step - loss: 0.7959 - accuracy: 0.6748 - val_loss: 0.7632 - val_accuracy: 0.5600\n",
      "Epoch 73/100\n",
      "21/21 [==============================] - 68s 3s/step - loss: 0.7654 - accuracy: 0.6602 - val_loss: 0.6575 - val_accuracy: 0.7200\n",
      "Epoch 74/100\n",
      "21/21 [==============================] - 68s 3s/step - loss: 0.7429 - accuracy: 0.7136 - val_loss: 0.8125 - val_accuracy: 0.5600\n",
      "Epoch 75/100\n",
      "21/21 [==============================] - 68s 3s/step - loss: 0.7777 - accuracy: 0.6893 - val_loss: 0.7188 - val_accuracy: 0.6800\n",
      "Epoch 76/100\n",
      "21/21 [==============================] - 68s 3s/step - loss: 0.8000 - accuracy: 0.6408 - val_loss: 0.7395 - val_accuracy: 0.5800\n",
      "Epoch 77/100\n",
      "21/21 [==============================] - 69s 3s/step - loss: 0.7434 - accuracy: 0.6942 - val_loss: 0.6708 - val_accuracy: 0.7000\n",
      "Epoch 78/100\n",
      "21/21 [==============================] - 68s 3s/step - loss: 0.7348 - accuracy: 0.7039 - val_loss: 0.6504 - val_accuracy: 0.7400\n",
      "Epoch 79/100\n",
      "21/21 [==============================] - 69s 3s/step - loss: 0.7853 - accuracy: 0.6262 - val_loss: 0.6619 - val_accuracy: 0.7000\n",
      "Epoch 80/100\n",
      "21/21 [==============================] - 68s 3s/step - loss: 0.7791 - accuracy: 0.6748 - val_loss: 0.7038 - val_accuracy: 0.6200\n",
      "Epoch 81/100\n",
      "21/21 [==============================] - 69s 3s/step - loss: 0.7326 - accuracy: 0.6796 - val_loss: 0.6460 - val_accuracy: 0.7200\n",
      "Epoch 82/100\n",
      "21/21 [==============================] - 69s 3s/step - loss: 0.7468 - accuracy: 0.6408 - val_loss: 0.7036 - val_accuracy: 0.6600\n",
      "Epoch 83/100\n",
      "21/21 [==============================] - 69s 3s/step - loss: 0.7558 - accuracy: 0.6748 - val_loss: 0.6503 - val_accuracy: 0.6000\n",
      "Epoch 84/100\n",
      "21/21 [==============================] - 69s 3s/step - loss: 0.7619 - accuracy: 0.6602 - val_loss: 0.7274 - val_accuracy: 0.6400\n",
      "Epoch 85/100\n",
      "21/21 [==============================] - 68s 3s/step - loss: 0.6778 - accuracy: 0.7136 - val_loss: 0.6661 - val_accuracy: 0.6400\n",
      "Epoch 86/100\n",
      "21/21 [==============================] - 69s 3s/step - loss: 0.7280 - accuracy: 0.6942 - val_loss: 0.7059 - val_accuracy: 0.6800\n",
      "Epoch 87/100\n",
      "21/21 [==============================] - 69s 3s/step - loss: 0.7296 - accuracy: 0.6699 - val_loss: 0.7610 - val_accuracy: 0.5800\n",
      "Epoch 88/100\n",
      "21/21 [==============================] - 69s 3s/step - loss: 0.7379 - accuracy: 0.7282 - val_loss: 0.6957 - val_accuracy: 0.6400\n",
      "Epoch 89/100\n",
      "21/21 [==============================] - 69s 3s/step - loss: 0.7610 - accuracy: 0.6505 - val_loss: 0.6615 - val_accuracy: 0.6800\n",
      "Epoch 90/100\n",
      "21/21 [==============================] - 69s 3s/step - loss: 0.6738 - accuracy: 0.7282 - val_loss: 0.6427 - val_accuracy: 0.6600\n",
      "Epoch 91/100\n",
      "21/21 [==============================] - 68s 3s/step - loss: 0.7333 - accuracy: 0.6990 - val_loss: 0.6849 - val_accuracy: 0.6400\n",
      "Epoch 92/100\n",
      "21/21 [==============================] - 68s 3s/step - loss: 0.7367 - accuracy: 0.6893 - val_loss: 0.7250 - val_accuracy: 0.6000\n",
      "Epoch 93/100\n",
      "21/21 [==============================] - 68s 3s/step - loss: 0.6670 - accuracy: 0.7039 - val_loss: 0.7145 - val_accuracy: 0.6400\n",
      "Epoch 94/100\n",
      "21/21 [==============================] - 69s 3s/step - loss: 0.6342 - accuracy: 0.7330 - val_loss: 0.6711 - val_accuracy: 0.6400\n",
      "Epoch 95/100\n",
      "21/21 [==============================] - 69s 3s/step - loss: 0.7286 - accuracy: 0.6748 - val_loss: 0.7099 - val_accuracy: 0.6200\n",
      "Epoch 96/100\n",
      "21/21 [==============================] - 70s 3s/step - loss: 0.6959 - accuracy: 0.6942 - val_loss: 0.6275 - val_accuracy: 0.7400\n",
      "Epoch 97/100\n",
      "21/21 [==============================] - 68s 3s/step - loss: 0.6876 - accuracy: 0.6796 - val_loss: 0.5714 - val_accuracy: 0.7600\n",
      "Epoch 98/100\n",
      "21/21 [==============================] - 68s 3s/step - loss: 0.6956 - accuracy: 0.6748 - val_loss: 0.6753 - val_accuracy: 0.6400\n",
      "Epoch 99/100\n",
      "21/21 [==============================] - 71s 3s/step - loss: 0.7050 - accuracy: 0.6990 - val_loss: 0.7110 - val_accuracy: 0.6000\n",
      "Epoch 100/100\n",
      "21/21 [==============================] - 69s 3s/step - loss: 0.7683 - accuracy: 0.6505 - val_loss: 0.7464 - val_accuracy: 0.6400\n"
     ]
    }
   ],
   "source": [
    "#FIT MODEL\n",
    "print(len(train_batches))\n",
    "print(len(valid_batches))\n",
    "\n",
    "STEP_SIZE_TRAIN=train_batches.n//train_batches.batch_size\n",
    "STEP_SIZE_VALID=valid_batches.n//valid_batches.batch_size\n",
    "\n",
    "opt = tf.keras.optimizers.SGD(learning_rate=LEARNING_RATE)\n",
    "\n",
    "model.compile(optimizer=opt, loss=tf.keras.losses.CategoricalCrossentropy(), metrics=['accuracy'])\n",
    "\n",
    "history = model.fit(train_batches, epochs=NUM_EPOCHS, steps_per_epoch=STEP_SIZE_TRAIN, validation_data = \n",
    "                    valid_batches, validation_steps=STEP_SIZE_VALID)"
   ]
  },
  {
   "cell_type": "markdown",
   "metadata": {
    "nbpresent": {
     "id": "66140980-2aa4-457f-b1df-74c10c234cc2"
    }
   },
   "source": [
    "#### [5 points] Plot Accuracy and Loss During Training"
   ]
  },
  {
   "cell_type": "code",
   "execution_count": 18,
   "metadata": {
    "nbpresent": {
     "id": "ff342098-784a-4e20-ac34-b74ca8ebe839"
    }
   },
   "outputs": [
    {
     "data": {
      "image/png": "[encoded data removed]",
      "text/plain": [
       "<Figure size 432x288 with 1 Axes>"
      ]
     },
     "metadata": {
      "needs_background": "light"
     },
     "output_type": "display_data"
    },
    {
     "data": {
      "image/png": "[encoded data removed]",
      "text/plain": [
       "<Figure size 432x288 with 1 Axes>"
      ]
     },
     "metadata": {
      "needs_background": "light"
     },
     "output_type": "display_data"
    }
   ],
   "source": [
    "import matplotlib.pyplot as plt\n",
    "\n",
    "plt.plot(history.history['accuracy'], label='Train_acc')\n",
    "plt.plot(history.history['val_accuracy'], label = 'Test_acc')\n",
    "plt.xlabel('Epoch')\n",
    "plt.ylabel('Accuracy')\n",
    "plt.ylim([0.3, 0.8])\n",
    "plt.legend(loc='lower right')\n",
    "plt.title('Accuracy over 100 Epochs')\n",
    "plt.show()\n",
    "\n",
    "plt.plot(history.history['loss'], label='Train_loss')\n",
    "plt.plot(history.history['val_loss'], label = 'Test_loss')\n",
    "plt.xlabel('Epoch')\n",
    "plt.ylabel('Loss')\n",
    "plt.ylim([0.5, 1.2])\n",
    "plt.legend(loc='upper right')\n",
    "plt.title('Loss over 100 Epochs')\n",
    "plt.show()"
   ]
  },
  {
   "cell_type": "markdown",
   "metadata": {
    "nbpresent": {
     "id": "66140980-2aa4-457f-b1df-74c10c234cc2"
    }
   },
   "source": [
    "#### Testing Model"
   ]
  },
  {
   "cell_type": "code",
   "execution_count": 20,
   "metadata": {},
   "outputs": [
    {
     "name": "stdout",
     "output_type": "stream",
     "text": [
      "Found 36 images belonging to 4 classes.\n",
      "36\n",
      "36/36 [==============================] - 4s 110ms/step - loss: 0.8244 - accuracy: 0.6111\n",
      "Test loss: 0.8243839740753174\n",
      "Test accuracy: 0.6111111044883728\n"
     ]
    }
   ],
   "source": [
    "test_datagen = ImageDataGenerator(rescale=1. / 255)\n",
    "\n",
    "eval_generator = test_datagen.flow_from_directory(TEST_DIR,target_size=IMAGE_SIZE,\n",
    "                                                  batch_size=1,shuffle=True,seed=42,class_mode=\"categorical\")\n",
    "eval_generator.reset()\n",
    "print(len(eval_generator))\n",
    "x = model.evaluate_generator(eval_generator,steps = np.ceil(len(eval_generator)),\n",
    "                           use_multiprocessing = False,verbose = 1,workers=1)\n",
    "print('Test loss:' , x[0])\n",
    "print('Test accuracy:',x[1])"
   ]
  },
  {
   "cell_type": "markdown",
   "metadata": {
    "nbpresent": {
     "id": "66140980-2aa4-457f-b1df-74c10c234cc2"
    }
   },
   "source": [
    "## [10 points] TSNE Plot\n",
    "t-Distributed Stochastic Neighbor Embedding (t-SNE) is a widely used technique for dimensionality reduction that is particularly well suited for the visualization of high-dimensional datasets. After training is complete, extract features from a specific deep layer of your choice, use t-SNE to reduce the dimensionality of your extracted features to 2 dimensions and plot the resulting 2D features."
   ]
  },
  {
   "cell_type": "code",
   "execution_count": 29,
   "metadata": {},
   "outputs": [
    {
     "name": "stdout",
     "output_type": "stream",
     "text": [
      "Found 270 images belonging to 4 classes.\n",
      "[t-SNE] Computing 91 nearest neighbors...\n",
      "[t-SNE] Indexed 270 samples in 0.004s...\n",
      "[t-SNE] Computed neighbors for 270 samples in 0.083s...\n",
      "[t-SNE] Computed conditional probabilities for sample 270 / 270\n",
      "[t-SNE] Mean sigma: 1.866734\n",
      "[t-SNE] KL divergence after 250 iterations with early exaggeration: 62.831902\n",
      "[t-SNE] KL divergence after 1000 iterations: 0.451694\n"
     ]
    },
    {
     "data": {
      "image/png": "[encoded data removed]",
      "text/plain": [
       "<Figure size 576x576 with 1 Axes>"
      ]
     },
     "metadata": {
      "needs_background": "light"
     },
     "output_type": "display_data"
    }
   ],
   "source": [
    "from sklearn.manifold import TSNE\n",
    "\n",
    "intermediate_layer_model = tf.keras.models.Model(inputs=model.input,\n",
    "                                        outputs=model.get_layer('dense_feature').output)\n",
    "\n",
    "tsne_eval_generator = test_datagen.flow_from_directory(DATASET_PATH,target_size=IMAGE_SIZE,\n",
    "                                                  batch_size=1,shuffle=False,seed=42,class_mode=\"categorical\")\n",
    "\n",
    "intermediate = intermediate_layer_model.predict(tsne_eval_generator) \n",
    "\n",
    "intermediate_tsne = TSNE(n_components=2, n_iter=1000, verbose=1).fit_transform(intermediate)\n",
    "\n",
    "actual_classes = tsne_eval_generator.classes\n",
    "actual_colors = []\n",
    "for i in actual_classes:\n",
    "    if i == 0:\n",
    "        actual_colors.append('red')\n",
    "    elif i == 1:\n",
    "        actual_colors.append('blue')\n",
    "    elif i == 2: \n",
    "        actual_colors.append('yellow')\n",
    "    else:\n",
    "        actual_colors.append('green')\n",
    "        \n",
    "# in actual_classes list:        \n",
    "# 0 - 60 = covid - 0\n",
    "# 61 - 130 = Normal - 1\n",
    "# 131 - 200 = Pnemonia bacterial - 2\n",
    "# 201 - 270 = Pnemonia Viral - 3\n",
    "\n",
    "x = intermediate_tsne[:,0]        \n",
    "y = intermediate_tsne[:,1] \n",
    "\n",
    "plt.figure(figsize=(8, 8))\n",
    "plt.scatter(x, y, color = actual_colors)\n",
    "plt.scatter(x[0], y[0], color = actual_colors[0], label = 'Covid-19')\n",
    "plt.scatter(x[65], y[65], color = actual_colors[65], label = 'Normal')\n",
    "plt.scatter(x[140], y[140], color = actual_colors[140], label = 'Pneumonia Bacterial')\n",
    "plt.scatter(x[210], y[210], color = actual_colors[210], label = 'Pneumonia Viral')\n",
    "plt.legend(loc='upper left')\n",
    "plt.show()"
   ]
  },
  {
   "cell_type": "markdown",
   "metadata": {},
   "source": [
    "<!-- ## Task 2: COVID-19 vs Normal vs Tertiary Pneumonia (Bacterial and Viral) -->"
   ]
  },
  {
   "cell_type": "markdown",
   "metadata": {
    "nbpresent": {
     "id": "66140980-2aa4-457f-b1df-74c10c234cc2"
    }
   },
   "source": [
    "<!-- #### Renew Training Batch and Validation Batch -->"
   ]
  },
  {
   "cell_type": "markdown",
   "metadata": {
    "nbpresent": {
     "id": "66140980-2aa4-457f-b1df-74c10c234cc2"
    }
   },
   "source": [
    "<!-- #### Renew Model -->"
   ]
  }
 ],
 "metadata": {
  "kernelspec": {
   "display_name": "Python 3",
   "language": "python",
   "name": "python3"
  },
  "language_info": {
   "codemirror_mode": {
    "name": "ipython",
    "version": 3
   },
   "file_extension": ".py",
   "mimetype": "text/x-python",
   "name": "python",
   "nbconvert_exporter": "python",
   "pygments_lexer": "ipython3",
   "version": "3.7.9"
  },
  "latex_envs": {
   "LaTeX_envs_menu_present": true,
   "autoclose": false,
   "autocomplete": true,
   "bibliofile": "biblio.bib",
   "cite_by": "apalike",
   "current_citInitial": 1,
   "eqLabelWithNumbers": true,
   "eqNumInitial": 1,
   "hotkeys": {
    "equation": "Ctrl-E",
    "itemize": "Ctrl-I"
   },
   "labels_anchors": false,
   "latex_user_defs": false,
   "report_style_numbering": false,
   "user_envs_cfg": false
  },
  "toc": {
   "base_numbering": 1,
   "nav_menu": {},
   "number_sections": true,
   "sideBar": true,
   "skip_h1_title": false,
   "title_cell": "Table of Contents",
   "title_sidebar": "Contents",
   "toc_cell": false,
   "toc_position": {},
   "toc_section_display": true,
   "toc_window_display": false
  },
  "varInspector": {
   "cols": {
    "lenName": 16,
    "lenType": 16,
    "lenVar": 40
   },
   "kernels_config": {
    "python": {
     "delete_cmd_postfix": "",
     "delete_cmd_prefix": "del ",
     "library": "var_list.py",
     "varRefreshCmd": "print(var_dic_list())"
    },
    "r": {
     "delete_cmd_postfix": ") ",
     "delete_cmd_prefix": "rm(",
     "library": "var_list.r",
     "varRefreshCmd": "cat(var_dic_list()) "
    }
   },
   "types_to_exclude": [
    "module",
    "function",
    "builtin_function_or_method",
    "instance",
    "_Feature"
   ],
   "window_display": false
  }
 },
 "nbformat": 4,
 "nbformat_minor": 4
}
